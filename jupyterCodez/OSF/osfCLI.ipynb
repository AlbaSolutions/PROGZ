{
 "cells": [
  {
   "cell_type": "code",
   "execution_count": null,
   "metadata": {},
   "outputs": [],
   "source": [
    "import requests\n",
    "import pandas as pd"
   ]
  },
  {
   "cell_type": "code",
   "execution_count": null,
   "metadata": {},
   "outputs": [],
   "source": [
    "User1 = input(\"Enter OSF username \")\n",
    "Pass1= input(\"Password for account\")"
   ]
  },
  {
   "cell_type": "code",
   "execution_count": null,
   "metadata": {},
   "outputs": [],
   "source": [
    "class OSFSession(requests.Session):\n",
    "    auth = None\n",
    "    __attrs__ = requests.Session.__attrs__ + ['base_url']\n",
    "\n",
    "    def __init__(self,myurl):\n",
    "        \"\"\"Handle HTTP session related work.\"\"\"\n",
    "        super(OSFSession, self).__init__()\n",
    "        self.headers.update({\n",
    "            # Only accept JSON responses\n",
    "            'Accept': 'application/vnd.api+json',\n",
    "            # Only accept UTF-8 encoded data\n",
    "            'Accept-Charset': 'utf-8',\n",
    "            # Always send JSON\n",
    "            'Content-Type': \"application/json\",\n",
    "            # Custom User-Agent string\n",
    "            'User-Agent': 'osfclient v0.0.1',\n",
    "            })\n",
    "        self.base_url = myurl\n",
    "\n",
    "    def basic_auth(self, username, password):\n",
    "        self.auth = (username, password)\n",
    "        if 'Authorization' in self.headers:\n",
    "            self.headers.pop('Authorization')\n",
    "\n",
    "    def build_url(self, *args):\n",
    "        parts = [self.base_url]\n",
    "        parts.extend(args)\n",
    "        # canonical OSF URLs end with a slash\n",
    "        return '/'.join(parts) + '/'\n",
    "\n",
    "    def put(self, url, *args, **kwargs):\n",
    "        response = super(OSFSession, self).put(url, *args, **kwargs)\n",
    "        if response.status_code == 401:\n",
    "            raise UnauthorizedException()\n",
    "        return response\n",
    "\n",
    "    def get(self, url, *args, **kwargs):\n",
    "        response = super(OSFSession, self).get(url, *args, **kwargs)\n",
    "        if response.status_code == 401:\n",
    "            raise UnauthorizedException()\n",
    "        return response\n"
   ]
  },
  {
   "cell_type": "code",
   "execution_count": null,
   "metadata": {},
   "outputs": [],
   "source": [
    "myconn = OSFSession('https://api.osf.io/v2/users/me')\n",
    "print(\"user: \"+User1)\n",
    "print(\"pass: \"+Pass1)\n",
    "myconn.basic_auth(User1,Pass1)\n",
    "mydf =pd.DataFrame(myconn.get(myconn.base_url))"
   ]
  },
  {
   "cell_type": "code",
   "execution_count": null,
   "metadata": {},
   "outputs": [],
   "source": [
    "mydf.loc(0)[0]"
   ]
  },
  {
   "cell_type": "code",
   "execution_count": null,
   "metadata": {},
   "outputs": [],
   "source": []
  }
 ],
 "metadata": {
  "kernelspec": {
   "display_name": "Python 3",
   "language": "python",
   "name": "python3"
  },
  "language_info": {
   "codemirror_mode": {
    "name": "ipython",
    "version": 3
   },
   "file_extension": ".py",
   "mimetype": "text/x-python",
   "name": "python",
   "nbconvert_exporter": "python",
   "pygments_lexer": "ipython3",
   "version": "3.7.3"
  }
 },
 "nbformat": 4,
 "nbformat_minor": 2
}
